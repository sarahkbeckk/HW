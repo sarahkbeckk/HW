{
 "cells": [
  {
   "cell_type": "markdown",
   "metadata": {},
   "source": [
    "## Preprocessing"
   ]
  },
  {
   "cell_type": "code",
   "execution_count": 2,
   "metadata": {},
   "outputs": [
    {
     "data": {
      "text/html": [
       "<div>\n",
       "<style scoped>\n",
       "    .dataframe tbody tr th:only-of-type {\n",
       "        vertical-align: middle;\n",
       "    }\n",
       "\n",
       "    .dataframe tbody tr th {\n",
       "        vertical-align: top;\n",
       "    }\n",
       "\n",
       "    .dataframe thead th {\n",
       "        text-align: right;\n",
       "    }\n",
       "</style>\n",
       "<table border=\"1\" class=\"dataframe\">\n",
       "  <thead>\n",
       "    <tr style=\"text-align: right;\">\n",
       "      <th></th>\n",
       "      <th>EIN</th>\n",
       "      <th>NAME</th>\n",
       "      <th>APPLICATION_TYPE</th>\n",
       "      <th>AFFILIATION</th>\n",
       "      <th>CLASSIFICATION</th>\n",
       "      <th>USE_CASE</th>\n",
       "      <th>ORGANIZATION</th>\n",
       "      <th>STATUS</th>\n",
       "      <th>INCOME_AMT</th>\n",
       "      <th>SPECIAL_CONSIDERATIONS</th>\n",
       "      <th>ASK_AMT</th>\n",
       "      <th>IS_SUCCESSFUL</th>\n",
       "    </tr>\n",
       "  </thead>\n",
       "  <tbody>\n",
       "    <tr>\n",
       "      <th>0</th>\n",
       "      <td>10520599</td>\n",
       "      <td>BLUE KNIGHTS MOTORCYCLE CLUB</td>\n",
       "      <td>T10</td>\n",
       "      <td>Independent</td>\n",
       "      <td>C1000</td>\n",
       "      <td>ProductDev</td>\n",
       "      <td>Association</td>\n",
       "      <td>1</td>\n",
       "      <td>0</td>\n",
       "      <td>N</td>\n",
       "      <td>5000</td>\n",
       "      <td>1</td>\n",
       "    </tr>\n",
       "    <tr>\n",
       "      <th>1</th>\n",
       "      <td>10531628</td>\n",
       "      <td>AMERICAN CHESAPEAKE CLUB CHARITABLE TR</td>\n",
       "      <td>T3</td>\n",
       "      <td>Independent</td>\n",
       "      <td>C2000</td>\n",
       "      <td>Preservation</td>\n",
       "      <td>Co-operative</td>\n",
       "      <td>1</td>\n",
       "      <td>1-9999</td>\n",
       "      <td>N</td>\n",
       "      <td>108590</td>\n",
       "      <td>1</td>\n",
       "    </tr>\n",
       "    <tr>\n",
       "      <th>2</th>\n",
       "      <td>10547893</td>\n",
       "      <td>ST CLOUD PROFESSIONAL FIREFIGHTERS</td>\n",
       "      <td>T5</td>\n",
       "      <td>CompanySponsored</td>\n",
       "      <td>C3000</td>\n",
       "      <td>ProductDev</td>\n",
       "      <td>Association</td>\n",
       "      <td>1</td>\n",
       "      <td>0</td>\n",
       "      <td>N</td>\n",
       "      <td>5000</td>\n",
       "      <td>0</td>\n",
       "    </tr>\n",
       "    <tr>\n",
       "      <th>3</th>\n",
       "      <td>10553066</td>\n",
       "      <td>SOUTHSIDE ATHLETIC ASSOCIATION</td>\n",
       "      <td>T3</td>\n",
       "      <td>CompanySponsored</td>\n",
       "      <td>C2000</td>\n",
       "      <td>Preservation</td>\n",
       "      <td>Trust</td>\n",
       "      <td>1</td>\n",
       "      <td>10000-24999</td>\n",
       "      <td>N</td>\n",
       "      <td>6692</td>\n",
       "      <td>1</td>\n",
       "    </tr>\n",
       "    <tr>\n",
       "      <th>4</th>\n",
       "      <td>10556103</td>\n",
       "      <td>GENETIC RESEARCH INSTITUTE OF THE DESERT</td>\n",
       "      <td>T3</td>\n",
       "      <td>Independent</td>\n",
       "      <td>C1000</td>\n",
       "      <td>Heathcare</td>\n",
       "      <td>Trust</td>\n",
       "      <td>1</td>\n",
       "      <td>100000-499999</td>\n",
       "      <td>N</td>\n",
       "      <td>142590</td>\n",
       "      <td>1</td>\n",
       "    </tr>\n",
       "  </tbody>\n",
       "</table>\n",
       "</div>"
      ],
      "text/plain": [
       "        EIN                                      NAME APPLICATION_TYPE  \\\n",
       "0  10520599              BLUE KNIGHTS MOTORCYCLE CLUB              T10   \n",
       "1  10531628    AMERICAN CHESAPEAKE CLUB CHARITABLE TR               T3   \n",
       "2  10547893        ST CLOUD PROFESSIONAL FIREFIGHTERS               T5   \n",
       "3  10553066            SOUTHSIDE ATHLETIC ASSOCIATION               T3   \n",
       "4  10556103  GENETIC RESEARCH INSTITUTE OF THE DESERT               T3   \n",
       "\n",
       "        AFFILIATION CLASSIFICATION      USE_CASE  ORGANIZATION  STATUS  \\\n",
       "0       Independent          C1000    ProductDev   Association       1   \n",
       "1       Independent          C2000  Preservation  Co-operative       1   \n",
       "2  CompanySponsored          C3000    ProductDev   Association       1   \n",
       "3  CompanySponsored          C2000  Preservation         Trust       1   \n",
       "4       Independent          C1000     Heathcare         Trust       1   \n",
       "\n",
       "      INCOME_AMT SPECIAL_CONSIDERATIONS  ASK_AMT  IS_SUCCESSFUL  \n",
       "0              0                      N     5000              1  \n",
       "1         1-9999                      N   108590              1  \n",
       "2              0                      N     5000              0  \n",
       "3    10000-24999                      N     6692              1  \n",
       "4  100000-499999                      N   142590              1  "
      ]
     },
     "execution_count": 2,
     "metadata": {},
     "output_type": "execute_result"
    }
   ],
   "source": [
    "# Import our dependencies\n",
    "from sklearn.model_selection import train_test_split\n",
    "from sklearn.preprocessing import StandardScaler\n",
    "import pandas as pd\n",
    "import tensorflow as tf\n",
    "\n",
    "#  Import and read the charity_data.csv.\n",
    "import pandas as pd \n",
    "application_df = pd.read_csv(\"Resources/charity_data.csv\")\n",
    "application_df.head()"
   ]
  },
  {
   "cell_type": "code",
   "execution_count": 4,
   "metadata": {},
   "outputs": [],
   "source": [
    "# Drop the non-beneficial ID columns, 'EIN' and 'NAME'.\n",
    "application_df.drop(columns=[\"EIN\",\"NAME\"], inplace=True)"
   ]
  },
  {
   "cell_type": "code",
   "execution_count": 5,
   "metadata": {},
   "outputs": [
    {
     "data": {
      "text/plain": [
       "APPLICATION_TYPE            17\n",
       "AFFILIATION                  6\n",
       "CLASSIFICATION              71\n",
       "USE_CASE                     5\n",
       "ORGANIZATION                 4\n",
       "STATUS                       2\n",
       "INCOME_AMT                   9\n",
       "SPECIAL_CONSIDERATIONS       2\n",
       "ASK_AMT                   8747\n",
       "IS_SUCCESSFUL                2\n",
       "dtype: int64"
      ]
     },
     "execution_count": 5,
     "metadata": {},
     "output_type": "execute_result"
    }
   ],
   "source": [
    "# Determine the number of unique values in each column.\n",
    "application_df.nunique()"
   ]
  },
  {
   "cell_type": "code",
   "execution_count": 6,
   "metadata": {},
   "outputs": [
    {
     "data": {
      "text/plain": [
       "T3     27037\n",
       "T4      1542\n",
       "T6      1216\n",
       "T5      1173\n",
       "T19     1065\n",
       "T8       737\n",
       "T7       725\n",
       "T10      528\n",
       "T9       156\n",
       "T13       66\n",
       "T12       27\n",
       "T2        16\n",
       "T25        3\n",
       "T14        3\n",
       "T15        2\n",
       "T29        2\n",
       "T17        1\n",
       "Name: APPLICATION_TYPE, dtype: int64"
      ]
     },
     "execution_count": 6,
     "metadata": {},
     "output_type": "execute_result"
    }
   ],
   "source": [
    "# Look at APPLICATION_TYPE value counts for binning\n",
    "application_df['APPLICATION_TYPE'].value_counts()"
   ]
  },
  {
   "cell_type": "code",
   "execution_count": 8,
   "metadata": {},
   "outputs": [
    {
     "data": {
      "text/plain": [
       "T3       27037\n",
       "T4        1542\n",
       "T6        1216\n",
       "T5        1173\n",
       "T19       1065\n",
       "T8         737\n",
       "T7         725\n",
       "T10        528\n",
       "Other      276\n",
       "Name: APPLICATION_TYPE, dtype: int64"
      ]
     },
     "execution_count": 8,
     "metadata": {},
     "output_type": "execute_result"
    }
   ],
   "source": [
    "# Choose a cutoff value and create a list of application types to be replaced\n",
    "# use the variable name `application_types_to_replace`\n",
    "application_types_to_replace = list(application_df['APPLICATION_TYPE'].value_counts()[application_df['APPLICATION_TYPE'].value_counts() < 400].index)\n",
    "\n",
    "# Replace in dataframe\n",
    "for app in application_types_to_replace:\n",
    "    application_df['APPLICATION_TYPE'] = application_df['APPLICATION_TYPE'].replace(app,\"Other\")\n",
    "\n",
    "# Check to make sure binning was successful\n",
    "application_df['APPLICATION_TYPE'].value_counts()"
   ]
  },
  {
   "cell_type": "code",
   "execution_count": 9,
   "metadata": {},
   "outputs": [
    {
     "data": {
      "text/plain": [
       "C1000    17326\n",
       "C2000     6074\n",
       "C1200     4837\n",
       "C3000     1918\n",
       "C2100     1883\n",
       "         ...  \n",
       "C4500        1\n",
       "C2500        1\n",
       "C4120        1\n",
       "C1248        1\n",
       "C1820        1\n",
       "Name: CLASSIFICATION, Length: 71, dtype: int64"
      ]
     },
     "execution_count": 9,
     "metadata": {},
     "output_type": "execute_result"
    }
   ],
   "source": [
    "# Look at CLASSIFICATION value counts for binning\n",
    "counts = application_df.CLASSIFICATION.value_counts()\n",
    "counts"
   ]
  },
  {
   "cell_type": "code",
   "execution_count": 10,
   "metadata": {},
   "outputs": [
    {
     "data": {
      "text/plain": [
       "C1000    17326\n",
       "C2000     6074\n",
       "C1200     4837\n",
       "C3000     1918\n",
       "C2100     1883\n",
       "C7000      777\n",
       "C1700      287\n",
       "C4000      194\n",
       "C5000      116\n",
       "C1270      114\n",
       "C2700      104\n",
       "C2800       95\n",
       "C7100       75\n",
       "C1300       58\n",
       "C1280       50\n",
       "C1230       36\n",
       "C1400       34\n",
       "C7200       32\n",
       "C2300       32\n",
       "C1240       30\n",
       "C8000       20\n",
       "C7120       18\n",
       "C1500       16\n",
       "C1800       15\n",
       "C6000       15\n",
       "C1250       14\n",
       "C8200       11\n",
       "C1278       10\n",
       "C1238       10\n",
       "C1237        9\n",
       "C1235        9\n",
       "C7210        7\n",
       "C1720        6\n",
       "C4100        6\n",
       "C2400        6\n",
       "C1600        5\n",
       "C1257        5\n",
       "C2710        3\n",
       "C1260        3\n",
       "C0           3\n",
       "C1256        2\n",
       "C1234        2\n",
       "C1267        2\n",
       "C1246        2\n",
       "C3200        2\n",
       "Name: CLASSIFICATION, dtype: int64"
      ]
     },
     "execution_count": 10,
     "metadata": {},
     "output_type": "execute_result"
    }
   ],
   "source": [
    "# You may find it helpful to look at CLASSIFICATION value counts >1\n",
    "counts[counts > 1]"
   ]
  },
  {
   "cell_type": "code",
   "execution_count": 11,
   "metadata": {},
   "outputs": [
    {
     "data": {
      "text/plain": [
       "C1000    17326\n",
       "C2000     6074\n",
       "C1200     4837\n",
       "Other     2261\n",
       "C3000     1918\n",
       "C2100     1883\n",
       "Name: CLASSIFICATION, dtype: int64"
      ]
     },
     "execution_count": 11,
     "metadata": {},
     "output_type": "execute_result"
    }
   ],
   "source": [
    "# Choose a cutoff value and create a list of classifications to be replaced\n",
    "# use the variable name `classifications_to_replace`\n",
    "classifications_to_replace = [counts[counts < 1000].index]\n",
    "\n",
    "# Replace in dataframe\n",
    "for cls in classifications_to_replace:\n",
    "    application_df['CLASSIFICATION'] = application_df['CLASSIFICATION'].replace(cls,\"Other\")\n",
    "    \n",
    "# Check to make sure binning was successful\n",
    "application_df['CLASSIFICATION'].value_counts()"
   ]
  },
  {
   "cell_type": "code",
   "execution_count": 12,
   "metadata": {},
   "outputs": [],
   "source": [
    "# Convert categorical data to numeric with `pd.get_dummies`\n",
    "application_dummies_df = pd.get_dummies(application_df)"
   ]
  },
  {
   "cell_type": "code",
   "execution_count": 13,
   "metadata": {},
   "outputs": [],
   "source": [
    "# Split our preprocessed data into our features and target arrays\n",
    "#  YOUR CODE GOES HERE\n",
    "\n",
    "# Split the preprocessed data into a training and testing dataset\n",
    "X_train, X_test, y_train, y_test = train_test_split(application_dummies_df.drop(columns = [\"IS_SUCCESSFUL\"]),\n",
    "                                                    application_dummies_df[\"IS_SUCCESSFUL\"], random_state=42)"
   ]
  },
  {
   "cell_type": "code",
   "execution_count": 14,
   "metadata": {},
   "outputs": [],
   "source": [
    "# Create a StandardScaler instances\n",
    "scaler = StandardScaler()\n",
    "\n",
    "# Fit the StandardScaler\n",
    "X_scaler = scaler.fit(X_train)\n",
    "\n",
    "# Scale the data\n",
    "X_train_scaled = X_scaler.transform(X_train)\n",
    "X_test_scaled = X_scaler.transform(X_test)"
   ]
  },
  {
   "cell_type": "markdown",
   "metadata": {},
   "source": [
    "## Compile, Train and Evaluate the Model"
   ]
  },
  {
   "cell_type": "code",
   "execution_count": 19,
   "metadata": {},
   "outputs": [
    {
     "name": "stdout",
     "output_type": "stream",
     "text": [
      "Model: \"sequential_1\"\n",
      "_________________________________________________________________\n",
      "Layer (type)                 Output Shape              Param #   \n",
      "=================================================================\n",
      "dense_3 (Dense)              (None, 50)                2200      \n",
      "_________________________________________________________________\n",
      "dense_4 (Dense)              (None, 40)                2040      \n",
      "_________________________________________________________________\n",
      "dense_5 (Dense)              (None, 1)                 41        \n",
      "=================================================================\n",
      "Total params: 4,281\n",
      "Trainable params: 4,281\n",
      "Non-trainable params: 0\n",
      "_________________________________________________________________\n"
     ]
    }
   ],
   "source": [
    "# Define the model - deep neural net, i.e., the number of input features and hidden nodes for each layer.\n",
    "input_features = len(X_train.columns)\n",
    "layer_1 =  50\n",
    "layer_2 = 40\n",
    "\n",
    "nn = tf.keras.models.Sequential()\n",
    "\n",
    "# First hidden layer\n",
    "nn.add(\n",
    "    tf.keras.layers.Dense(units=layer_1, input_dim=input_features, activation=\"relu\")\n",
    ")\n",
    "\n",
    "# Second hidden layer\n",
    "nn.add(tf.keras.layers.Dense(units=layer_2, activation=\"relu\"))\n",
    "\n",
    "# Output layer\n",
    "nn.add(tf.keras.layers.Dense(units=1, activation=\"sigmoid\"))\n",
    "\n",
    "# Check the structure of the model\n",
    "nn.summary()"
   ]
  },
  {
   "cell_type": "code",
   "execution_count": 20,
   "metadata": {},
   "outputs": [],
   "source": [
    "# Compile the model\n",
    "nn.compile(loss=\"binary_crossentropy\", optimizer=\"adam\", metrics=[\"accuracy\"])"
   ]
  },
  {
   "cell_type": "code",
   "execution_count": 21,
   "metadata": {},
   "outputs": [
    {
     "name": "stdout",
     "output_type": "stream",
     "text": [
      "Epoch 1/50\n",
      "804/804 [==============================] - 1s 739us/step - loss: 0.6029 - accuracy: 0.6904\n",
      "Epoch 2/50\n",
      "804/804 [==============================] - 1s 751us/step - loss: 0.5582 - accuracy: 0.72800s - loss: 0.558\n",
      "Epoch 3/50\n",
      "804/804 [==============================] - 1s 751us/step - loss: 0.5480 - accuracy: 0.7336\n",
      "Epoch 4/50\n",
      "804/804 [==============================] - 1s 711us/step - loss: 0.5516 - accuracy: 0.7315\n",
      "Epoch 5/50\n",
      "804/804 [==============================] - 1s 698us/step - loss: 0.5448 - accuracy: 0.7356\n",
      "Epoch 6/50\n",
      "804/804 [==============================] - 1s 707us/step - loss: 0.5525 - accuracy: 0.7300\n",
      "Epoch 7/50\n",
      "804/804 [==============================] - 1s 706us/step - loss: 0.5478 - accuracy: 0.7314\n",
      "Epoch 8/50\n",
      "804/804 [==============================] - 1s 728us/step - loss: 0.5458 - accuracy: 0.7283\n",
      "Epoch 9/50\n",
      "804/804 [==============================] - 1s 793us/step - loss: 0.5431 - accuracy: 0.7372\n",
      "Epoch 10/50\n",
      "804/804 [==============================] - 1s 702us/step - loss: 0.5426 - accuracy: 0.7325\n",
      "Epoch 11/50\n",
      "804/804 [==============================] - 1s 701us/step - loss: 0.5467 - accuracy: 0.7332\n",
      "Epoch 12/50\n",
      "804/804 [==============================] - 1s 704us/step - loss: 0.5406 - accuracy: 0.7351\n",
      "Epoch 13/50\n",
      "804/804 [==============================] - 1s 745us/step - loss: 0.5500 - accuracy: 0.7288\n",
      "Epoch 14/50\n",
      "804/804 [==============================] - 1s 762us/step - loss: 0.5396 - accuracy: 0.7375\n",
      "Epoch 15/50\n",
      "804/804 [==============================] - 1s 725us/step - loss: 0.5444 - accuracy: 0.7322\n",
      "Epoch 16/50\n",
      "804/804 [==============================] - 1s 720us/step - loss: 0.5465 - accuracy: 0.7318\n",
      "Epoch 17/50\n",
      "804/804 [==============================] - 1s 719us/step - loss: 0.5460 - accuracy: 0.7315\n",
      "Epoch 18/50\n",
      "804/804 [==============================] - 1s 755us/step - loss: 0.5434 - accuracy: 0.7298\n",
      "Epoch 19/50\n",
      "804/804 [==============================] - 1s 720us/step - loss: 0.5455 - accuracy: 0.7341\n",
      "Epoch 20/50\n",
      "804/804 [==============================] - 1s 700us/step - loss: 0.5458 - accuracy: 0.7329\n",
      "Epoch 21/50\n",
      "804/804 [==============================] - 1s 740us/step - loss: 0.5413 - accuracy: 0.7358\n",
      "Epoch 22/50\n",
      "804/804 [==============================] - 1s 709us/step - loss: 0.5459 - accuracy: 0.7334\n",
      "Epoch 23/50\n",
      "804/804 [==============================] - 1s 763us/step - loss: 0.5449 - accuracy: 0.7315\n",
      "Epoch 24/50\n",
      "804/804 [==============================] - 1s 714us/step - loss: 0.5438 - accuracy: 0.7340\n",
      "Epoch 25/50\n",
      "804/804 [==============================] - 1s 717us/step - loss: 0.5387 - accuracy: 0.7393\n",
      "Epoch 26/50\n",
      "804/804 [==============================] - 1s 796us/step - loss: 0.5436 - accuracy: 0.7323\n",
      "Epoch 27/50\n",
      "804/804 [==============================] - 1s 785us/step - loss: 0.5413 - accuracy: 0.7381\n",
      "Epoch 28/50\n",
      "804/804 [==============================] - 1s 766us/step - loss: 0.5397 - accuracy: 0.7396\n",
      "Epoch 29/50\n",
      "804/804 [==============================] - 1s 795us/step - loss: 0.5374 - accuracy: 0.7390\n",
      "Epoch 30/50\n",
      "804/804 [==============================] - 1s 714us/step - loss: 0.5346 - accuracy: 0.7417\n",
      "Epoch 31/50\n",
      "804/804 [==============================] - 1s 717us/step - loss: 0.5391 - accuracy: 0.7374\n",
      "Epoch 32/50\n",
      "804/804 [==============================] - 1s 725us/step - loss: 0.5389 - accuracy: 0.7379\n",
      "Epoch 33/50\n",
      "804/804 [==============================] - 1s 747us/step - loss: 0.5360 - accuracy: 0.7394\n",
      "Epoch 34/50\n",
      "804/804 [==============================] - 1s 707us/step - loss: 0.5415 - accuracy: 0.7367\n",
      "Epoch 35/50\n",
      "804/804 [==============================] - 1s 755us/step - loss: 0.5396 - accuracy: 0.7348\n",
      "Epoch 36/50\n",
      "804/804 [==============================] - 1s 780us/step - loss: 0.5430 - accuracy: 0.7329\n",
      "Epoch 37/50\n",
      "804/804 [==============================] - 1s 716us/step - loss: 0.5464 - accuracy: 0.7327\n",
      "Epoch 38/50\n",
      "804/804 [==============================] - 1s 742us/step - loss: 0.5376 - accuracy: 0.7383\n",
      "Epoch 39/50\n",
      "804/804 [==============================] - 1s 813us/step - loss: 0.5380 - accuracy: 0.7374\n",
      "Epoch 40/50\n",
      "804/804 [==============================] - 1s 763us/step - loss: 0.5378 - accuracy: 0.7371\n",
      "Epoch 41/50\n",
      "804/804 [==============================] - 1s 741us/step - loss: 0.5424 - accuracy: 0.7344\n",
      "Epoch 42/50\n",
      "804/804 [==============================] - 1s 767us/step - loss: 0.5351 - accuracy: 0.7410\n",
      "Epoch 43/50\n",
      "804/804 [==============================] - 1s 736us/step - loss: 0.5407 - accuracy: 0.7342\n",
      "Epoch 44/50\n",
      "804/804 [==============================] - 1s 786us/step - loss: 0.5342 - accuracy: 0.7413\n",
      "Epoch 45/50\n",
      "804/804 [==============================] - 1s 712us/step - loss: 0.5353 - accuracy: 0.7411\n",
      "Epoch 46/50\n",
      "804/804 [==============================] - 1s 778us/step - loss: 0.5387 - accuracy: 0.7348\n",
      "Epoch 47/50\n",
      "804/804 [==============================] - 1s 809us/step - loss: 0.5336 - accuracy: 0.73760s - loss: 0.5327 - accuracy: 0.\n",
      "Epoch 48/50\n",
      "804/804 [==============================] - 1s 750us/step - loss: 0.5357 - accuracy: 0.7391\n",
      "Epoch 49/50\n",
      "804/804 [==============================] - 1s 762us/step - loss: 0.5369 - accuracy: 0.7407\n",
      "Epoch 50/50\n",
      "804/804 [==============================] - 1s 731us/step - loss: 0.5357 - accuracy: 0.7421\n"
     ]
    }
   ],
   "source": [
    "# Train the model\n",
    "fit_model = nn.fit(X_train_scaled, y_train, epochs=50)"
   ]
  },
  {
   "cell_type": "code",
   "execution_count": 22,
   "metadata": {},
   "outputs": [
    {
     "name": "stdout",
     "output_type": "stream",
     "text": [
      "268/268 - 0s - loss: 0.5564 - accuracy: 0.7304\n",
      "Loss: 0.5563637614250183, Accuracy: 0.7303789854049683\n"
     ]
    }
   ],
   "source": [
    "# Evaluate the model using the test data\n",
    "model_loss, model_accuracy = nn.evaluate(X_test_scaled,y_test,verbose=2)\n",
    "print(f\"Loss: {model_loss}, Accuracy: {model_accuracy}\")"
   ]
  },
  {
   "cell_type": "code",
   "execution_count": 23,
   "metadata": {},
   "outputs": [],
   "source": [
    "# Export our model to HDF5 file\n",
    "nn.save(\"AlphabetSoupCharity.h5\")"
   ]
  },
  {
   "cell_type": "code",
   "execution_count": null,
   "metadata": {},
   "outputs": [],
   "source": []
  }
 ],
 "metadata": {
  "kernelspec": {
   "display_name": "Python 3",
   "language": "python",
   "name": "python3"
  },
  "language_info": {
   "codemirror_mode": {
    "name": "ipython",
    "version": 3
   },
   "file_extension": ".py",
   "mimetype": "text/x-python",
   "name": "python",
   "nbconvert_exporter": "python",
   "pygments_lexer": "ipython3",
   "version": "3.9.0"
  }
 },
 "nbformat": 4,
 "nbformat_minor": 4
}
